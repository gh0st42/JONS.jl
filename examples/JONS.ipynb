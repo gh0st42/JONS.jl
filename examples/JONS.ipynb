{
 "cells": [
  {
   "attachments": {},
   "cell_type": "markdown",
   "metadata": {},
   "source": [
    "# The Julia Opportunistic Network Simulator"
   ]
  },
  {
   "cell_type": "code",
   "execution_count": 1,
   "metadata": {},
   "outputs": [],
   "source": [
    "#using Pkg\n",
    "#Pkg.instantiate()\n",
    "\n",
    "push!(LOAD_PATH, \"../src\")\n",
    "push!(LOAD_PATH, \"src\")\n",
    "\n",
    "using Random\n",
    "using DataFrames\n",
    "using JONS\n"
   ]
  },
  {
   "attachments": {},
   "cell_type": "markdown",
   "metadata": {},
   "source": [
    "## Configuration"
   ]
  },
  {
   "cell_type": "code",
   "execution_count": 2,
   "metadata": {
    "tags": [
     "parameters"
    ]
   },
   "outputs": [
    {
     "data": {
      "text/plain": [
       "false"
      ]
     },
     "metadata": {},
     "output_type": "display_data"
    }
   ],
   "source": [
    "MOVEMENT_FILE=\"data/large_1.one\"\n",
    "SCAN_INTERVAL=2.0\n",
    "NET_RANGE=100\n",
    "ANIMATION_STEPS = 20.0\n",
    "VIZ = false\n",
    "POSLOG = false"
   ]
  },
  {
   "cell_type": "code",
   "execution_count": 3,
   "metadata": {},
   "outputs": [
    {
     "data": {
      "text/plain": [
       "OneScenario(duration=3600.0, nn=17, w=1000.0, h=1000.0, #movements=18012)"
      ]
     },
     "metadata": {},
     "output_type": "display_data"
    }
   ],
   "source": [
    "one_scenario = parse_one_movement(MOVEMENT_FILE)"
   ]
  },
  {
   "cell_type": "code",
   "execution_count": 4,
   "metadata": {},
   "outputs": [
    {
     "name": "stderr",
     "output_type": "stream",
     "text": [
      "┌ Info: initializing simulation\n",
      "└ @ JONS /Users/lab/src/scratch/JONS.jl/src/simulation.jl:5\n",
      "┌ Info: running simulation\n",
      "└ @ JONS /Users/lab/src/scratch/JONS.jl/src/simulation.jl:45\n"
     ]
    },
    {
     "name": "stderr",
     "output_type": "stream",
     "text": [
      "┌ Info: real: 2623 milliseconds sim: 3602 rate: 1373.24 s/s\n",
      "└ @ JONS /Users/lab/src/scratch/JONS.jl/src/simulation.jl:75\n",
      "┌ Info: simulation finished in 2 seconds, 623 milliseconds\n",
      "└ @ JONS /Users/lab/src/scratch/JONS.jl/src/simulation.jl:76\n"
     ]
    }
   ],
   "source": [
    "Random.seed!(1)\n",
    "#plotlyjs()\n",
    "\n",
    "# configure network\n",
    "network = NetworkSettings(NET_RANGE, 54000000)\n",
    "\n",
    "# configure nodes\n",
    "epidemic = EpidemicRouter(10000, SCAN_INTERVAL)\n",
    "saw = SprayAndWaitRouter(10000, SCAN_INTERVAL, 7)\n",
    "nodes = generate_nodes(one_scenario.nn, network, epidemic)\n",
    "\n",
    "msggenconfig = MessageGeneratorConfig(\"M\", (80, 120), (20.0, 20.0), (6, 15), (17, 17), Burst)\n",
    "config = Dict()\n",
    "config[\"visualize\"] = VIZ\n",
    "config[\"poslogger\"] = POSLOG\n",
    "#sim = NetSim(last_move_time + 1, (Float32(WORLD_SIZE[1]), Float32(WORLD_SIZE[2])), nodes, movements, MessageGeneratorConfig[msggenconfig], config)\n",
    "sim = NetSim(one_scenario.duration + 1, (one_scenario.w, one_scenario.h), nodes, one_scenario.movements, MessageGeneratorConfig[msggenconfig], config)\n",
    "\n",
    "sim_init(sim)\n",
    "sim_run(sim)"
   ]
  },
  {
   "attachments": {},
   "cell_type": "markdown",
   "metadata": {},
   "source": [
    "## Results"
   ]
  },
  {
   "cell_type": "code",
   "execution_count": 5,
   "metadata": {},
   "outputs": [
    {
     "data": {
      "text/html": [
       "<div><div style = \"float: left;\"><span>1×3 DataFrame</span></div><div style = \"clear: both;\"></div></div><div class = \"data-frame\" style = \"overflow-x: scroll;\"><table class = \"data-frame\" style = \"margin-bottom: 6px;\"><thead><tr class = \"header\"><th class = \"rowNumber\" style = \"font-weight: bold; text-align: right;\">Row</th><th style = \"text-align: left;\">drop</th><th style = \"text-align: left;\">rx</th><th style = \"text-align: left;\">tx</th></tr><tr class = \"subheader headerLastRow\"><th class = \"rowNumber\" style = \"font-weight: bold; text-align: right;\"></th><th title = \"Int64\" style = \"text-align: left;\">Int64</th><th title = \"Int64\" style = \"text-align: left;\">Int64</th><th title = \"Int64\" style = \"text-align: left;\">Int64</th></tr></thead><tbody><tr><td class = \"rowNumber\" style = \"font-weight: bold; text-align: right;\">1</td><td style = \"text-align: right;\">0</td><td style = \"text-align: right;\">104363</td><td style = \"text-align: right;\">104363</td></tr></tbody></table></div>"
      ],
      "text/latex": [
       "\\begin{tabular}{r|ccc}\n",
       "\t& drop & rx & tx\\\\\n",
       "\t\\hline\n",
       "\t& Int64 & Int64 & Int64\\\\\n",
       "\t\\hline\n",
       "\t1 & 0 & 104363 & 104363 \\\\\n",
       "\\end{tabular}\n"
      ],
      "text/plain": [
       "\u001b[1m1×3 DataFrame\u001b[0m\n",
       "\u001b[1m Row \u001b[0m│\u001b[1m drop  \u001b[0m\u001b[1m rx     \u001b[0m\u001b[1m tx     \u001b[0m\n",
       "     │\u001b[90m Int64 \u001b[0m\u001b[90m Int64  \u001b[0m\u001b[90m Int64  \u001b[0m\n",
       "─────┼───────────────────────\n",
       "   1 │     0  104363  104363"
      ]
     },
     "metadata": {},
     "output_type": "display_data"
    }
   ],
   "source": [
    "DataFrame(net_stats(sim))"
   ]
  },
  {
   "cell_type": "code",
   "execution_count": 6,
   "metadata": {},
   "outputs": [
    {
     "data": {
      "text/html": [
       "<div><div style = \"float: left;\"><span>1×12 DataFrame</span></div><div style = \"clear: both;\"></div></div><div class = \"data-frame\" style = \"overflow-x: scroll;\"><table class = \"data-frame\" style = \"margin-bottom: 6px;\"><thead><tr class = \"header\"><th class = \"rowNumber\" style = \"font-weight: bold; text-align: right;\">Row</th><th style = \"text-align: left;\">aborted</th><th style = \"text-align: left;\">created</th><th style = \"text-align: left;\">delivered</th><th style = \"text-align: left;\">delivery_prob</th><th style = \"text-align: left;\">dropped</th><th style = \"text-align: left;\">dups</th><th style = \"text-align: left;\">hops_avg</th><th style = \"text-align: left;\">latency_avg</th><th style = \"text-align: left;\">overhead_ratio</th><th style = \"text-align: left;\">relayed</th><th style = \"text-align: left;\">removed</th><th style = \"text-align: left;\">started</th></tr><tr class = \"subheader headerLastRow\"><th class = \"rowNumber\" style = \"font-weight: bold; text-align: right;\"></th><th title = \"Int64\" style = \"text-align: left;\">Int64</th><th title = \"Int64\" style = \"text-align: left;\">Int64</th><th title = \"Int64\" style = \"text-align: left;\">Int64</th><th title = \"Float64\" style = \"text-align: left;\">Float64</th><th title = \"Int64\" style = \"text-align: left;\">Int64</th><th title = \"Int64\" style = \"text-align: left;\">Int64</th><th title = \"Float64\" style = \"text-align: left;\">Float64</th><th title = \"Float64\" style = \"text-align: left;\">Float64</th><th title = \"Float64\" style = \"text-align: left;\">Float64</th><th title = \"Int64\" style = \"text-align: left;\">Int64</th><th title = \"Int64\" style = \"text-align: left;\">Int64</th><th title = \"Int64\" style = \"text-align: left;\">Int64</th></tr></thead><tbody><tr><td class = \"rowNumber\" style = \"font-weight: bold; text-align: right;\">1</td><td style = \"text-align: right;\">0</td><td style = \"text-align: right;\">1800</td><td style = \"text-align: right;\">1664</td><td style = \"text-align: right;\">0.924444</td><td style = \"text-align: right;\">0</td><td style = \"text-align: right;\">81287</td><td style = \"text-align: right;\">3.07151</td><td style = \"text-align: right;\">241.187</td><td style = \"text-align: right;\">61.7181</td><td style = \"text-align: right;\">104363</td><td style = \"text-align: right;\">0</td><td style = \"text-align: right;\">105808</td></tr></tbody></table></div>"
      ],
      "text/latex": [
       "\\begin{tabular}{r|ccccccccc}\n",
       "\t& aborted & created & delivered & delivery\\_prob & dropped & dups & hops\\_avg & latency\\_avg & \\\\\n",
       "\t\\hline\n",
       "\t& Int64 & Int64 & Int64 & Float64 & Int64 & Int64 & Float64 & Float64 & \\\\\n",
       "\t\\hline\n",
       "\t1 & 0 & 1800 & 1664 & 0.924444 & 0 & 81287 & 3.07151 & 241.187 & $\\dots$ \\\\\n",
       "\\end{tabular}\n"
      ],
      "text/plain": [
       "\u001b[1m1×12 DataFrame\u001b[0m\n",
       "\u001b[1m Row \u001b[0m│\u001b[1m aborted \u001b[0m\u001b[1m created \u001b[0m\u001b[1m delivered \u001b[0m\u001b[1m delivery_prob \u001b[0m\u001b[1m dropped \u001b[0m\u001b[1m dups  \u001b[0m\u001b[1m hops_avg \u001b[0m\u001b[1m l\u001b[0m ⋯\n",
       "     │\u001b[90m Int64   \u001b[0m\u001b[90m Int64   \u001b[0m\u001b[90m Int64     \u001b[0m\u001b[90m Float64       \u001b[0m\u001b[90m Int64   \u001b[0m\u001b[90m Int64 \u001b[0m\u001b[90m Float64  \u001b[0m\u001b[90m F\u001b[0m ⋯\n",
       "─────┼──────────────────────────────────────────────────────────────────────────\n",
       "   1 │       0     1800       1664       0.924444        0  81287   3.07151    ⋯\n",
       "\u001b[36m                                                               5 columns omitted\u001b[0m"
      ]
     },
     "metadata": {},
     "output_type": "display_data"
    }
   ],
   "source": [
    "DataFrame(bundle_stats(sim))"
   ]
  },
  {
   "cell_type": "code",
   "execution_count": 7,
   "metadata": {},
   "outputs": [],
   "source": [
    "sim_viz(sim)"
   ]
  },
  {
   "attachments": {},
   "cell_type": "markdown",
   "metadata": {},
   "source": [
    "## Batch Simulation"
   ]
  },
  {
   "cell_type": "code",
   "execution_count": 8,
   "metadata": {},
   "outputs": [
    {
     "name": "stdout",
     "output_type": "stream",
     "text": [
      "#run 1 w/ router: Epidemic\n"
     ]
    },
    {
     "name": "stderr",
     "output_type": "stream",
     "text": [
      "┌ Info: initializing simulation\n",
      "└ @ JONS /Users/lab/src/scratch/JONS.jl/src/simulation.jl:5\n",
      "┌ Info: running simulation\n",
      "└ @ JONS /Users/lab/src/scratch/JONS.jl/src/simulation.jl:45\n"
     ]
    },
    {
     "ename": "BoundsError",
     "evalue": "BoundsError: attempt to access 10-element Vector{Node} at index [6:15]",
     "output_type": "error",
     "traceback": [
      "BoundsError: attempt to access 10-element Vector{Node} at index [6:15]\n",
      "\n",
      "Stacktrace:\n",
      "  [1] throw_boundserror(A::Vector{Node}, I::Tuple{UnitRange{Int16}})\n",
      "    @ Base ./abstractarray.jl:703\n",
      "  [2] checkbounds\n",
      "    @ ./abstractarray.jl:668 [inlined]\n",
      "  [3] getindex\n",
      "    @ ./array.jl:930 [inlined]\n",
      "  [4] macro expansion\n",
      "    @ ~/src/scratch/JONS.jl/src/messagegenerator.jl:22 [inlined]\n",
      "  [5] (::JONS.var\"##331\")(_arg::Nothing)\n",
      "    @ JONS ~/.julia/packages/ResumableFunctions/O7CSx/src/macro.jl:21\n",
      "  [6] execute(ev::SimJulia.Timeout, proc::SimJulia.Process)\n",
      "    @ SimJulia ~/.julia/packages/SimJulia/wybPE/src/processes.jl:32\n",
      "  [7] (::SimJulia.var\"#1#2\"{typeof(SimJulia.execute), SimJulia.Timeout, Tuple{SimJulia.Process}})()\n",
      "    @ SimJulia ~/.julia/packages/SimJulia/wybPE/src/base.jl:51\n",
      "  [8] step(sim::SimJulia.Simulation)\n",
      "    @ SimJulia ~/.julia/packages/SimJulia/wybPE/src/simulations.jl:39\n",
      "  [9] run(env::SimJulia.Simulation, until::SimJulia.Timeout)\n",
      "    @ SimJulia ~/.julia/packages/SimJulia/wybPE/src/base.jl:91\n",
      " [10] run(env::SimJulia.Simulation, until::Float64)\n",
      "    @ SimJulia ~/.julia/packages/SimJulia/wybPE/src/events.jl:29\n",
      " [11] sim_run(sim::NetSim)\n",
      "    @ JONS ~/src/scratch/JONS.jl/src/simulation.jl:58\n",
      " [12] macro expansion\n",
      "    @ ~/src/scratch/JONS.jl/examples/JONS.ipynb:43 [inlined]\n",
      " [13] top-level scope\n",
      "    @ ./timing.jl:262 [inlined]\n",
      " [14] top-level scope\n",
      "    @ ~/src/scratch/JONS.jl/examples/JONS.ipynb:0"
     ]
    }
   ],
   "source": [
    "const NUM_RUNS = 3\n",
    "const NUM_NODES = 10\n",
    "const DURATION = 3600.0\n",
    "const WORLD_SIZE = (1000, 1000)\n",
    "\n",
    "#plotlyjs()\n",
    "\n",
    "# configure network\n",
    "network = NetworkSettings(NET_RANGE, 54000000)\n",
    "\n",
    "# configure nodes\n",
    "routers = [EpidemicRouter(10000, SCAN_INTERVAL), \n",
    "  SprayAndWaitRouter(10000, SCAN_INTERVAL, 7), \n",
    "  SprayAndWaitRouter(10000, SCAN_INTERVAL, 2),\n",
    "  SprayAndWaitRouter(10000, SCAN_INTERVAL, 1)]\n",
    "#run_idx = 1\n",
    "\n",
    "dfs = []\n",
    "\n",
    "@time for run_idx in 1:NUM_RUNS\n",
    "  Random.seed!(run_idx)\n",
    "  one_scenario = generate_randomwaypoint_movement(DURATION, NUM_NODES, Float32(WORLD_SIZE[1]), Float32(WORLD_SIZE[2]), Float32(1.0), Float32(5.0), Float32(0.0), Float32(60.0))\n",
    "\n",
    "\n",
    "  for r in routers\n",
    "    println(\"#run \", run_idx, \" w/ router: \", r)\n",
    "    r_strategy = string(r)\n",
    "    if r_strategy == \"SprayAndWait\"\n",
    "      r_strategy = \"SprayAndWait_\" * string(r.core.config[\"copies\"])\n",
    "    end\n",
    "    #run_idx += 1\n",
    "\n",
    "    nodes = generate_nodes(one_scenario.nn, network, r)\n",
    "    \n",
    "    msggenconfig = MessageGeneratorConfig(\"M\", (80, 120), (20.0, 20.0), (1, one_scenario.nn), (1, one_scenario.nn), Single)\n",
    "    config = Dict()\n",
    "    config[\"visualize\"] = VIZ\n",
    "    config[\"poslogger\"] = POSLOG\n",
    "    #sim = NetSim(last_move_time + 1, (Float32(WORLD_SIZE[1]), Float32(WORLD_SIZE[2])), nodes, movements, MessageGeneratorConfig[msggenconfig], config)\n",
    "    sim = NetSim(one_scenario.duration + 1, (one_scenario.w, one_scenario.h), nodes, one_scenario.movements, MessageGeneratorConfig[msggenconfig], config)\n",
    "    \n",
    "    sim_init(sim)\n",
    "    sim_run(sim)\n",
    "\n",
    "    run_df = DataFrame(bundle_stats(sim))\n",
    "    colname = \"Strategy\"\n",
    "    #run_df[!, colname] = string(r)\n",
    "    insertcols!(run_df, 1, colname => r_strategy)\n",
    "    colname = \"run\"\n",
    "    insertcols!(run_df, 2, colname => run_idx)    \n",
    "    push!(dfs, run_df)\n",
    "  end\n",
    "end\n",
    "\n",
    "df = popfirst!(dfs)\n",
    "for d in dfs\n",
    "  df = vcat(df, d)\n",
    "end\n",
    "df"
   ]
  },
  {
   "cell_type": "code",
   "execution_count": 9,
   "metadata": {},
   "outputs": [
    {
     "ename": "UndefVarError",
     "evalue": "UndefVarError: df not defined",
     "output_type": "error",
     "traceback": [
      "UndefVarError: df not defined\n",
      "\n",
      "Stacktrace:\n",
      " [1] top-level scope\n",
      "   @ ~/src/scratch/JONS.jl/examples/JONS.ipynb:4"
     ]
    }
   ],
   "source": [
    "using Plots\n",
    "using Statistics\n",
    "\n",
    "g_strat = groupby(df, :Strategy)\n",
    "df1 = combine(g_strat, [:delivery_prob] .=> mean)\n",
    "p1 = bar(df1[!,\"Strategy\"], df1[!, \"delivery_prob_mean\"], label=\"\")\n",
    "title!(\"Delivery Probability (mean)\")\n",
    "\n",
    "df1 = combine(g_strat, [:hops_avg] .=> mean)\n",
    "p2 = bar(df1[!,\"Strategy\"], df1[!, \"hops_avg_mean\"], label=\"\")\n",
    "title!(\"Hop Count (mean)\")\n",
    "\n",
    "df1 = combine(g_strat, [:latency_avg] .=> mean)\n",
    "p3 = bar(df1[!,\"Strategy\"], df1[!, \"latency_avg_mean\"], label=\"\")\n",
    "title!(\"Latency (mean)\")\n",
    "ylabel!(\"seconds\")\n",
    "\n",
    "df1 = combine(g_strat, [:overhead_ratio] .=> mean)\n",
    "p4 = bar(df1[!,\"Strategy\"], df1[!, \"overhead_ratio_mean\"], label=\"\")\n",
    "title!(\"Overhead Ratio (mean)\")\n",
    "\n",
    "plot(p1,p2, p3, p4, layout=(2,2), size=(1000,1000), plot_title=\"Results over \" * string(NUM_RUNS) * \" runs\")\n",
    "\n"
   ]
  },
  {
   "cell_type": "code",
   "execution_count": 10,
   "metadata": {},
   "outputs": [],
   "source": []
  }
 ],
 "metadata": {
  "kernelspec": {
   "display_name": "Julia 1.8.5",
   "language": "julia",
   "name": "julia-1.8"
  },
  "language_info": {
   "file_extension": ".jl",
   "mimetype": "application/julia",
   "name": "julia",
   "version": "1.8.5"
  },
  "orig_nbformat": 4,
  "vscode": {
   "interpreter": {
    "hash": "1a1af0ee75eeea9e2e1ee996c87e7a2b11a0bebd85af04bb136d915cefc0abce"
   }
  }
 },
 "nbformat": 4,
 "nbformat_minor": 2
}
