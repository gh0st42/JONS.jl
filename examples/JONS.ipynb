{
 "cells": [
  {
   "attachments": {},
   "cell_type": "markdown",
   "metadata": {},
   "source": [
    "# The Julia Opportunistic Network Simulator"
   ]
  },
  {
   "cell_type": "code",
   "execution_count": 1,
   "metadata": {},
   "outputs": [],
   "source": [
    "#using Pkg\n",
    "#Pkg.instantiate()\n",
    "\n",
    "push!(LOAD_PATH, \"../src\")\n",
    "push!(LOAD_PATH, \"src\")\n",
    "\n",
    "using Random\n",
    "using DataFrames\n",
    "using JONS\n"
   ]
  },
  {
   "cell_type": "code",
   "execution_count": 2,
   "metadata": {},
   "outputs": [
    {
     "data": {
      "text/plain": [
       "Main.JONS"
      ]
     },
     "metadata": {},
     "output_type": "display_data"
    }
   ],
   "source": [
    "include(\"../src/JONS.jl\")"
   ]
  },
  {
   "attachments": {},
   "cell_type": "markdown",
   "metadata": {},
   "source": [
    "## Configuration"
   ]
  },
  {
   "cell_type": "code",
   "execution_count": 3,
   "metadata": {
    "tags": [
     "parameters"
    ]
   },
   "outputs": [
    {
     "data": {
      "text/plain": [
       "false"
      ]
     },
     "metadata": {},
     "output_type": "display_data"
    }
   ],
   "source": [
    "MOVEMENT_FILE=\"data/large_1.one\"\n",
    "SCAN_INTERVAL=2.0\n",
    "NET_RANGE=100\n",
    "ANIMATION_STEPS = 20.0\n",
    "VIZ = false\n",
    "POSLOG = false"
   ]
  },
  {
   "cell_type": "code",
   "execution_count": 4,
   "metadata": {},
   "outputs": [
    {
     "ename": "UndefVarError",
     "evalue": "UndefVarError: parse_one_movement not defined",
     "output_type": "error",
     "traceback": [
      "UndefVarError: parse_one_movement not defined\n",
      "\n",
      "Stacktrace:\n",
      " [1] top-level scope\n",
      "   @ ~/LocalCode/gh0st42/JONS.jl/examples/JONS.ipynb:1"
     ]
    }
   ],
   "source": [
    "one_scenario = parse_one_movement(MOVEMENT_FILE)"
   ]
  },
  {
   "cell_type": "code",
   "execution_count": 5,
   "metadata": {},
   "outputs": [
    {
     "ename": "UndefVarError",
     "evalue": "UndefVarError: NetworkSettings not defined",
     "output_type": "error",
     "traceback": [
      "UndefVarError: NetworkSettings not defined\n",
      "\n",
      "Stacktrace:\n",
      " [1] top-level scope\n",
      "   @ ~/LocalCode/gh0st42/JONS.jl/examples/JONS.ipynb:5"
     ]
    }
   ],
   "source": [
    "Random.seed!(1)\n",
    "#plotlyjs()\n",
    "\n",
    "# configure network\n",
    "network = NetworkSettings(NET_RANGE, 54000000)\n",
    "\n",
    "# configure nodes\n",
    "epidemic = EpidemicRouter(10000, SCAN_INTERVAL)\n",
    "saw = SprayAndWaitRouter(10000, SCAN_INTERVAL, 1)\n",
    "nodes = generate_nodes(one_scenario.nn, network, saw)\n",
    "\n",
    "msggenconfig = MessageGeneratorConfig(\"M\", (80, 120), (20.0, 20.0), (6, 15), (17, 17), Burst)\n",
    "config = Dict()\n",
    "config[\"visualize\"] = VIZ\n",
    "config[\"poslogger\"] = POSLOG\n",
    "#sim = NetSim(last_move_time + 1, (Float32(WORLD_SIZE[1]), Float32(WORLD_SIZE[2])), nodes, movements, MessageGeneratorConfig[msggenconfig], config)\n",
    "sim = NetSim(one_scenario.duration + 1, (one_scenario.w, one_scenario.h), nodes, one_scenario.movements, MessageGeneratorConfig[msggenconfig], config)\n",
    "\n",
    "sim_init(sim)\n",
    "sim_run(sim)"
   ]
  },
  {
   "attachments": {},
   "cell_type": "markdown",
   "metadata": {},
   "source": [
    "## Results"
   ]
  },
  {
   "cell_type": "code",
   "execution_count": 6,
   "metadata": {},
   "outputs": [
    {
     "ename": "UndefVarError",
     "evalue": "UndefVarError: net_stats not defined",
     "output_type": "error",
     "traceback": [
      "UndefVarError: net_stats not defined\n",
      "\n",
      "Stacktrace:\n",
      " [1] top-level scope\n",
      "   @ ~/LocalCode/gh0st42/JONS.jl/examples/JONS.ipynb:1"
     ]
    }
   ],
   "source": [
    "DataFrame(net_stats(sim))"
   ]
  },
  {
   "cell_type": "code",
   "execution_count": 7,
   "metadata": {},
   "outputs": [
    {
     "ename": "UndefVarError",
     "evalue": "UndefVarError: bundle_stats not defined",
     "output_type": "error",
     "traceback": [
      "UndefVarError: bundle_stats not defined\n",
      "\n",
      "Stacktrace:\n",
      " [1] top-level scope\n",
      "   @ ~/LocalCode/gh0st42/JONS.jl/examples/JONS.ipynb:1"
     ]
    }
   ],
   "source": [
    "DataFrame(bundle_stats(sim))"
   ]
  },
  {
   "cell_type": "code",
   "execution_count": 8,
   "metadata": {},
   "outputs": [
    {
     "ename": "UndefVarError",
     "evalue": "UndefVarError: sim_viz not defined",
     "output_type": "error",
     "traceback": [
      "UndefVarError: sim_viz not defined\n",
      "\n",
      "Stacktrace:\n",
      " [1] top-level scope\n",
      "   @ ~/LocalCode/gh0st42/JONS.jl/examples/JONS.ipynb:1"
     ]
    }
   ],
   "source": [
    "sim_viz(sim)"
   ]
  },
  {
   "cell_type": "code",
   "execution_count": 9,
   "metadata": {},
   "outputs": [],
   "source": []
  }
 ],
 "metadata": {
  "kernelspec": {
   "display_name": "Julia 1.8.5",
   "language": "julia",
   "name": "julia-1.8"
  },
  "language_info": {
   "file_extension": ".jl",
   "mimetype": "application/julia",
   "name": "julia",
   "version": "1.8.5"
  },
  "orig_nbformat": 4,
  "vscode": {
   "interpreter": {
    "hash": "1a1af0ee75eeea9e2e1ee996c87e7a2b11a0bebd85af04bb136d915cefc0abce"
   }
  }
 },
 "nbformat": 4,
 "nbformat_minor": 2
}
